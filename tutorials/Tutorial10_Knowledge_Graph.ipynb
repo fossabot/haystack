{
 "cells": [
  {
   "cell_type": "markdown",
   "source": [
    "# Question Answering on a Knowledge Graph\n",
    "\n",
    "[![Open In Colab](https://colab.research.google.com/assets/colab-badge.svg)](https://colab.research.google.com/github/deepset-ai/haystack/blob/master/tutorials/Tutorial10_Knowledge_Graph.ipynb)\n",
    "\n",
    "Haystack allows storing and querying knowledge graphs with the help of pre-trained models that translate natural language questions to SPARQL queries..\n",
    "This tutorial demonstrates how to load an existing knowledge graph into haystack, load a pre-trained retriever, and execute questions on the knowledge graph.\n",
    "The training of models that translate natural language questions into SPARQL queries is currently not supported."
   ],
   "metadata": {
    "collapsed": false,
    "pycharm": {
     "name": "#%% md\n"
    }
   }
  },
  {
   "cell_type": "code",
   "execution_count": null,
   "outputs": [],
   "source": [
    "# Install the latest release of Haystack in your own environment\n",
    "#! pip install farm-haystack\n",
    "\n",
    "# Install the latest master of Haystack\n",
    "!pip install git+https://github.com/deepset-ai/haystack.git"
   ],
   "metadata": {
    "collapsed": false,
    "pycharm": {
     "name": "#%%\n"
    }
   }
  },
  {
   "cell_type": "code",
   "execution_count": null,
   "outputs": [],
   "source": [
    "# Here are some imports that we'll need\n",
    "\n",
    "import subprocess\n",
    "import time\n",
    "from pathlib import Path\n",
    "\n",
    "from farm.utils import initialize_device_settings\n",
    "\n",
    "from haystack.graph_retriever.kgqa import Text2SparqlRetriever\n",
    "from haystack.knowledge_graph.graphdb import GraphDBKnowledgeGraph\n"
   ],
   "metadata": {
    "collapsed": false,
    "pycharm": {
     "name": "#%%\n"
    }
   }
  },
  {
   "cell_type": "markdown",
   "source": [
    "## Launching a GraphDB instance"
   ],
   "metadata": {
    "collapsed": false,
    "pycharm": {
     "name": "#%% md\n"
    }
   }
  },
  {
   "cell_type": "code",
   "execution_count": null,
   "outputs": [],
   "source": [
    "# Unfortunately, there seems to be no good way to run GraphDB in colab environments\n",
    "# Start a GraphDB server with docker\n",
    "print(\"Starting GraphDB ...\")\n",
    "status = subprocess.run(\n",
    "    ['docker run -d -p 7200:7200 --name graphdb-instance-lcquad docker-registry.ontotext.com/graphdb-free:9.4.1-adoptopenjdk11'], shell=True\n",
    ")\n",
    "if status.returncode:\n",
    "    raise Exception(\"Failed to launch GraphDB. Maybe it is already running?\")\n",
    "time.sleep(30)"
   ],
   "metadata": {
    "collapsed": false,
    "pycharm": {
     "name": "#%%\n"
    }
   }
  },
  {
   "cell_type": "markdown",
   "source": [
    "## Creating a new repository (also known as document index in haystack's document stores)"
   ],
   "metadata": {
    "collapsed": false,
    "pycharm": {
     "name": "#%% md\n"
    }
   }
  },
  {
   "cell_type": "code",
   "execution_count": null,
   "outputs": [],
   "source": [
    "# Initialize a new GraphDBKnowledgeGraph store, create an index and load triples into the store\n",
    "\n",
    "kg = GraphDBKnowledgeGraph()\n",
    "kg.create_index(config_path=Path(\"../data/repo-config.ttl\"))\n",
    "kg.index = \"lcquad_full_wikidata\"\n",
    "kg.import_from_ttl_file(index=\"lcquad_full_wikidata\", path=Path(\"../data/tutorial10_knowledge_graph.ttl\"))\n"
   ],
   "metadata": {
    "collapsed": false,
    "pycharm": {
     "name": "#%%\n"
    }
   }
  },
  {
   "cell_type": "code",
   "execution_count": null,
   "outputs": [],
   "source": [
    "# here are ten example triples\n",
    "\n",
    "print(kg.get_all_triples()[:10])"
   ],
   "metadata": {
    "collapsed": false,
    "pycharm": {
     "name": "#%%\n"
    }
   }
  },
  {
   "cell_type": "code",
   "execution_count": null,
   "outputs": [],
   "source": [
    "## Initialize Retriever, which translates questions from natural language text to SPARQL queries\n",
    "device, n_gpu = initialize_device_settings(use_cuda=True)\n",
    "kgqa_retriever = Text2SparqlRetriever(knowledge_graph=kg, model_name_or_path=\"../saved_models/lcquad_full_wikidata\", top_k=1)"
   ],
   "metadata": {
    "collapsed": false,
    "pycharm": {
     "name": "#%%\n"
    }
   }
  },
  {
   "cell_type": "markdown",
   "source": [
    "## Query Execution\n",
    "\n",
    "We can now ask question that will be answered by our knowledge graph!\n",
    "One limitation though: our pre-trained model can only generate questions about entities it has seen during training.\n",
    "Otherwise it cannot translate the name of the entity to the identifier used in the knowledge graph."
   ],
   "metadata": {
    "collapsed": false,
    "pycharm": {
     "name": "#%% md\n"
    }
   }
  },
  {
   "cell_type": "code",
   "source": [
    "result = kgqa_retriever.retrieve(question_text=\"What periodical literature does Delta Air Lines use as a moutpiece?\")\n",
    "## SPARQL query: select distinct ?obj where { wd:Q188920 wdt:P2813 ?obj . ?obj wdt:P31 wd:Q1002697 }\n",
    "## Answer: wd:Q3486420"
   ],
   "metadata": {
    "collapsed": false,
    "pycharm": {
     "name": "#%%\n"
    }
   },
   "execution_count": null,
   "outputs": []
  }
 ],
 "metadata": {
  "kernelspec": {
   "display_name": "Python 3",
   "language": "python",
   "name": "python3"
  },
  "language_info": {
   "codemirror_mode": {
    "name": "ipython",
    "version": 2
   },
   "file_extension": ".py",
   "mimetype": "text/x-python",
   "name": "python",
   "nbconvert_exporter": "python",
   "pygments_lexer": "ipython2",
   "version": "2.7.6"
  }
 },
 "nbformat": 4,
 "nbformat_minor": 0
}